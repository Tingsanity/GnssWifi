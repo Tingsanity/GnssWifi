{
 "cells": [
  {
   "cell_type": "code",
   "execution_count": 16,
   "metadata": {},
   "outputs": [],
   "source": [
    "import numpy as np"
   ]
  },
  {
   "cell_type": "code",
   "execution_count": 28,
   "metadata": {},
   "outputs": [],
   "source": [
    "#give every position a coordinate\n",
    "coor = []\n",
    "for i in range(18):\n",
    "    coor.append(np.array([i%3,i//3]))"
   ]
  },
  {
   "cell_type": "code",
   "execution_count": 92,
   "metadata": {},
   "outputs": [
    {
     "data": {
      "text/plain": [
       "15"
      ]
     },
     "execution_count": 92,
     "metadata": {},
     "output_type": "execute_result"
    }
   ],
   "source": [
    "euclidean = [np.sqrt(np.sum(np.square(t - coor[4]))) for t in coor] \n",
    "furthest_location = euclidean.index(max(euclidean))\n",
    "furthest_location"
   ]
  },
  {
   "cell_type": "code",
   "execution_count": 124,
   "metadata": {},
   "outputs": [],
   "source": [
    "euclidean_map = []\n",
    "for i in range(len(coor)):\n",
    "    euclidean_map.append([np.sqrt(np.sum(np.square(t - coor[i]))) for t in coor]) \n",
    "euclidean_map = np.array(euclidean_map)"
   ]
  },
  {
   "cell_type": "code",
   "execution_count": 146,
   "metadata": {},
   "outputs": [],
   "source": [
    "def getCDFMap(p_location,d_t):\n",
    "    ## calaulate normalized probability for every position and build CDF map\n",
    "    ## inputs\n",
    "    #  p_location: the previous location\n",
    "    #  d_t: time interval\n",
    "    v_max = np.random.normal(1.2,0.8)\n",
    "    sigma = v_max * d_t\n",
    "    co = coor#[t for t in coor if np.sqrt(np.sum(np.square(t - p_location)))<sigma]\n",
    "    euclidean = [np.sqrt(np.sum(np.square(t - p_location))) for t in co] \n",
    "    furthest_location = euclidean.index(max(euclidean))\n",
    "    p = [np.exp(-(np.sum(np.square(t-p_location)))/(2*sigma**2)) for t in co]\n",
    "    p_norm = np.array(p)/sum(p)\n",
    "    for i in range(1,len(p_norm)):\n",
    "        p_norm[i] += p_norm[i-1]\n",
    "    return p_norm"
   ]
  },
  {
   "cell_type": "code",
   "execution_count": 151,
   "metadata": {},
   "outputs": [],
   "source": [
    "def GenerateRoute(points):\n",
    "    start = np.random.randint(0,17)\n",
    "    for i in range(points):\n",
    "        if i ==0:\n",
    "            print(start+1)\n",
    "            NextPos = np.argmax(getCDFMap(coor[start],1)>np.random.rand())\n",
    "        else:\n",
    "            NextPos = np.argmax(getCDFMap(coor[NextPos],1)>np.random.rand())\n",
    "        print(NextPos+1)"
   ]
  },
  {
   "cell_type": "code",
   "execution_count": null,
   "metadata": {},
   "outputs": [],
   "source": [
    "WifiAndMagDatas = glob.glob('20201022/indoor/wifi/dataRssi_at_*.txt')\n",
    "GPSDatas = "
   ]
  },
  {
   "cell_type": "code",
   "execution_count": 153,
   "metadata": {},
   "outputs": [
    {
     "name": "stdout",
     "output_type": "stream",
     "text": [
      "4\n",
      "4\n",
      "4\n",
      "4\n",
      "5\n",
      "5\n",
      "15\n",
      "9\n",
      "8\n",
      "8\n",
      "11\n",
      "10\n",
      "8\n",
      "9\n",
      "9\n",
      "1\n",
      "6\n",
      "5\n",
      "5\n",
      "4\n",
      "10\n",
      "10\n",
      "13\n",
      "10\n",
      "10\n",
      "9\n",
      "7\n",
      "13\n",
      "13\n",
      "13\n",
      "10\n",
      "10\n",
      "15\n",
      "14\n",
      "13\n",
      "10\n",
      "15\n",
      "18\n",
      "18\n",
      "17\n",
      "16\n",
      "10\n",
      "10\n",
      "10\n",
      "4\n",
      "7\n",
      "5\n",
      "8\n",
      "9\n",
      "6\n",
      "6\n"
     ]
    }
   ],
   "source": [
    "\n",
    "GenerateRoute(50)"
   ]
  }
 ],
 "metadata": {
  "kernelspec": {
   "display_name": "gps_wifi",
   "language": "python",
   "name": "gps_wifi"
  },
  "language_info": {
   "codemirror_mode": {
    "name": "ipython",
    "version": 3
   },
   "file_extension": ".py",
   "mimetype": "text/x-python",
   "name": "python",
   "nbconvert_exporter": "python",
   "pygments_lexer": "ipython3",
   "version": "3.6.10"
  }
 },
 "nbformat": 4,
 "nbformat_minor": 4
}
