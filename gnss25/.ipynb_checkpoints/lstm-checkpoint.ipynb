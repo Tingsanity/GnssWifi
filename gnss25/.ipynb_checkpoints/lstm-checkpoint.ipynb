{
 "cells": [
  {
   "cell_type": "code",
   "execution_count": 1,
   "metadata": {},
   "outputs": [],
   "source": [
    "import pandas as pd\n",
    "import numpy as np\n",
    "import glob\n",
    "\n",
    "import os\n",
    "import tensorflow as tf   \n",
    "from sklearn.preprocessing import scale\n",
    "from tensorflow.keras.models import Model\n",
    "from tensorflow.keras import layers, losses"
   ]
  },
  {
   "cell_type": "code",
   "execution_count": 2,
   "metadata": {},
   "outputs": [],
   "source": [
    "# transpose for tied autoencoder\n",
    "class DenseTranspose(tf.keras.layers.Layer):\n",
    "    def __init__(self, dense, activation=None, **kwargs):\n",
    "        self.dense = dense\n",
    "        self.activation = tf.keras.activations.get(activation)\n",
    "        super().__init__(**kwargs)\n",
    "    def build(self, batch_input_shape):\n",
    "        self.biases = self.add_weight(name='bias',shape=[self.dense.input_shape[-1]],initializer=\"zeros\")\n",
    "        super().build(batch_input_shape)\n",
    "    def call(self, inputs):\n",
    "        z = tf.matmul(inputs, self.dense.weights[0], transpose_b = True)\n",
    "        return self.activation(z + self.biases)"
   ]
  },
  {
   "cell_type": "code",
   "execution_count": 3,
   "metadata": {},
   "outputs": [],
   "source": [
    "# gps model\n",
    "input_o = tf.keras.layers.Input(shape=(4), name='input_layer_gps')\n",
    "dense1 = layers.Dense(4, activation='relu')\n",
    "dense2 = layers.Dense(4, activation='relu')\n",
    "dense3 = layers.Dense(4, activation='relu')\n",
    "dense4 = layers.Dense(4, activation='relu')\n",
    "models = dense1(input_o )\n",
    "models = dense2(models)\n",
    "models = dense3(models)\n",
    "models = dense4(models)\n",
    "model = tf.keras.Model(inputs=input_o, outputs=models)\n",
    "\n",
    "input_oo = tf.keras.layers.Input(shape=(4), name='input_layer0_gps')\n",
    "models2 = DenseTranspose(dense4, activation = 'relu')(input_oo)\n",
    "models2 = DenseTranspose(dense3, activation = 'relu')(models2)\n",
    "models2 = DenseTranspose(dense2, activation = 'relu')(models2)\n",
    "models2 = DenseTranspose(dense1, activation = 'relu')(models2)\n",
    "model2 = tf.keras.Model(inputs=input_oo, outputs=models2)\n",
    "\n",
    "input = tf.keras.layers.Input(shape=(10,4), name='input_layer1_gps')\n",
    "input1 = layers.Lambda(lambda x: x[:,0,:], output_shape=(1))(input)\n",
    "input2 = layers.Lambda(lambda x: x[:,1,:], output_shape=(1))(input)\n",
    "input3 = layers.Lambda(lambda x: x[:,2,:], output_shape=(1))(input)\n",
    "input4 = layers.Lambda(lambda x: x[:,3,:], output_shape=(1))(input)\n",
    "input5 = layers.Lambda(lambda x: x[:,4,:], output_shape=(1))(input)\n",
    "input6 = layers.Lambda(lambda x: x[:,5,:], output_shape=(1))(input)\n",
    "input7 = layers.Lambda(lambda x: x[:,6,:], output_shape=(1))(input)\n",
    "input8 = layers.Lambda(lambda x: x[:,7,:], output_shape=(1))(input)\n",
    "input9 = layers.Lambda(lambda x: x[:,8,:], output_shape=(1))(input)\n",
    "input10= layers.Lambda(lambda x: x[:,9,:], output_shape=(1))(input)\n",
    "model_1 = model(input1)\n",
    "model_2 = model(input2)\n",
    "model_3 = model(input3)\n",
    "model_4 = model(input4)\n",
    "model_5 = model(input5)\n",
    "model_6 = model(input6)\n",
    "model_7 = model(input7)\n",
    "model_8 = model(input8)\n",
    "model_9 = model(input9)\n",
    "model_10= model(input10)\n",
    "merge_layer = tf.keras.layers.concatenate(inputs=[model_1, model_2,model_3,model_4,model_5,model_6,model_7,model_8,model_9,model_10])\n",
    "dense5 = layers.Dense(32, activation='relu')\n",
    "dense6 = layers.Dense(24, activation='relu')\n",
    "dense7 = layers.Dense(16, activation='relu')\n",
    "model_encoder = dense5(merge_layer)\n",
    "model_encoder = dense6(model_encoder)\n",
    "model_encoder = dense7(model_encoder)\n",
    "model_down_gps = tf.keras.Model(inputs=[input], outputs=model_encoder,name = \"encoder\")\n",
    "\n",
    "# wifi model\n",
    "input = tf.keras.layers.Input(shape=(15), name='input_layer1_wifi')\n",
    "dense1 = tf.keras.layers.Dense(32, activation='relu')\n",
    "dense2 = tf.keras.layers.Dense(24, activation='relu')\n",
    "dense3 = tf.keras.layers.Dense(16, activation='relu')\n",
    "model_encoder = dense1(input)\n",
    "model_encoder = dense2(model_encoder)\n",
    "model_encoder = dense3(model_encoder)\n",
    "model_down_wifi = tf.keras.Model(inputs=[input], outputs=model_encoder,name = \"encoder\")\n",
    "\n",
    "# magnetic model\n",
    "input = tf.keras.layers.Input(shape=(3), name='input_layer1_mag')\n",
    "dense1 = tf.keras.layers.Dense(8, activation='relu')\n",
    "dense2 = tf.keras.layers.Dense(12, activation='relu')\n",
    "dense3 = tf.keras.layers.Dense(16, activation='relu')\n",
    "model_encoder = dense1(input)\n",
    "model_encoder = dense2(model_encoder)\n",
    "model_encoder = dense3(model_encoder)\n",
    "model_down_mag = tf.keras.Model(inputs=[input], outputs=model_encoder,name = \"encoder\")"
   ]
  },
  {
   "cell_type": "code",
   "execution_count": 4,
   "metadata": {},
   "outputs": [
    {
     "data": {
      "text/plain": [
       "<tensorflow.python.training.tracking.util.CheckpointLoadStatus at 0x7f500016e7f0>"
      ]
     },
     "execution_count": 4,
     "metadata": {},
     "output_type": "execute_result"
    }
   ],
   "source": [
    "# load gps trained model\n",
    "path = \"gps_checkpoints/checkpoints_1222/\"\n",
    "latest = tf.train.latest_checkpoint(path)\n",
    "latest\n",
    "checkpoint = tf.train.Checkpoint(model_down=model_down_gps)\n",
    "checkpoint.restore(latest).expect_partial()"
   ]
  },
  {
   "cell_type": "code",
   "execution_count": 5,
   "metadata": {},
   "outputs": [
    {
     "data": {
      "text/plain": [
       "<tensorflow.python.training.tracking.util.CheckpointLoadStatus at 0x7f4fbc4816d8>"
      ]
     },
     "execution_count": 5,
     "metadata": {},
     "output_type": "execute_result"
    }
   ],
   "source": [
    "# load wifi trained model\n",
    "path = \"wifi_checkpoints/checkpoints_1222/\"\n",
    "latest = tf.train.latest_checkpoint(path)\n",
    "latest\n",
    "checkpoint = tf.train.Checkpoint(model_down=model_down_wifi)\n",
    "checkpoint.restore(latest).expect_partial()"
   ]
  },
  {
   "cell_type": "code",
   "execution_count": 6,
   "metadata": {},
   "outputs": [
    {
     "data": {
      "text/plain": [
       "<tensorflow.python.training.tracking.util.CheckpointLoadStatus at 0x7f4fbc41acc0>"
      ]
     },
     "execution_count": 6,
     "metadata": {},
     "output_type": "execute_result"
    }
   ],
   "source": [
    "# load magnetic trained model\n",
    "path = \"magnetic_checkpoints/checkpoints_1222/\"\n",
    "latest = tf.train.latest_checkpoint(path)\n",
    "latest\n",
    "checkpoint = tf.train.Checkpoint(model_down=model_down_mag)\n",
    "checkpoint.restore(latest).expect_partial()"
   ]
  },
  {
   "cell_type": "code",
   "execution_count": null,
   "metadata": {},
   "outputs": [],
   "source": [
    "# gps data preprocess\n",
    "\n",
    "a = 6378137\n",
    "e = 8.1819190842622e-2\n",
    "asq = np.power(a,2)\n",
    "esq = np.power(e,2)\n",
    "def ecef2lla(ecef):\n",
    "    # change data from ecef coordiate to lla cordinate\n",
    "    x = ecef[0]\n",
    "    y = ecef[1]\n",
    "    z = ecef[2]\n",
    "    r = ecef[3]\n",
    "    b = np.sqrt( asq * (1-esq) )\n",
    "    bsq = np.power(b,2)\n",
    "    ep = np.sqrt( (asq - bsq)/bsq)\n",
    "    p = np.sqrt(np.power(x,2) + np.power(y,2) )\n",
    "    th = np.arctan2(a*z, b*p)\n",
    "    lon = np.arctan2(y,x)\n",
    "    lat = np.arctan2( (z + np.power(ep,2)*b*np.power(np.sin(th),3) ), (p - esq*a*np.power(np.cos(th),3)) )\n",
    "    N = a/( np.sqrt(1-esq*np.power(np.sin(lat),2)) )\n",
    "    alt = p / np.cos(lat) - N\n",
    "    lon = lon % (2*np.pi)\n",
    "    ret = [lat, lon, alt , r]\n",
    "    return ret\n",
    "\n",
    "datas = glob.glob('transfer/*/*/*.txt')\n",
    "train_data = []\n",
    "train_label = [] \n",
    "for data in datas:\n",
    "    if data.find('timestamp') == -1:\n",
    "        f = np.loadtxt(data,delimiter=\" \").copy()\n",
    "        if f.size == 4:\n",
    "            f = f.reshape((1,-1))\n",
    "        o = np.argsort(f,axis=(0))[:,3]\n",
    "        f = np.array([ecef2lla(d) for d in f])\n",
    "        f = f/np.array([(2*np.pi),(2*np.pi),1e+8,1e+14])\n",
    "        f = f[o]\n",
    "        f.resize((10,4))\n",
    "        train_data.append(f) #/100000000\n",
    "        if data.split('/')[1] == \"indoor\":\n",
    "            train_label.append(\"indoor\"+data.split('/')[-2])\n",
    "        else:\n",
    "            train_label.append(\"outdoor\"+data.split('/')[-2])\n",
    "        \n",
    "\n",
    "train_data = np.array(train_data).astype('float32')\n",
    "train_label = np.array(pd.get_dummies(train_label)).astype('float32')\n",
    "\n",
    "train_val_split = np.random.rand(len(train_data)) < 0.70\n",
    "train_x = train_data[train_val_split]\n",
    "train_y = train_label[train_val_split]\n",
    "val_x = train_data[~train_val_split]\n",
    "val_y = train_label[~train_val_split]"
   ]
  }
 ],
 "metadata": {
  "kernelspec": {
   "display_name": "gps_wifi",
   "language": "python",
   "name": "gps_wifi"
  },
  "language_info": {
   "codemirror_mode": {
    "name": "ipython",
    "version": 3
   },
   "file_extension": ".py",
   "mimetype": "text/x-python",
   "name": "python",
   "nbconvert_exporter": "python",
   "pygments_lexer": "ipython3",
   "version": "3.6.10"
  }
 },
 "nbformat": 4,
 "nbformat_minor": 4
}
