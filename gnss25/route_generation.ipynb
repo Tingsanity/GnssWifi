{
 "cells": [
  {
   "cell_type": "code",
   "execution_count": 1,
   "metadata": {},
   "outputs": [],
   "source": [
    "import numpy as np\n",
    "import glob"
   ]
  },
  {
   "cell_type": "code",
   "execution_count": 2,
   "metadata": {},
   "outputs": [],
   "source": [
    "#give every position a coordinate\n",
    "coor = []\n",
    "for i in range(9):\n",
    "    coor.append(np.array([i%3,i//3]))"
   ]
  },
  {
   "cell_type": "code",
   "execution_count": 3,
   "metadata": {},
   "outputs": [
    {
     "data": {
      "text/plain": [
       "0"
      ]
     },
     "execution_count": 3,
     "metadata": {},
     "output_type": "execute_result"
    }
   ],
   "source": [
    "euclidean = [np.sqrt(np.sum(np.square(t - coor[4]))) for t in coor] \n",
    "furthest_location = euclidean.index(max(euclidean))\n",
    "furthest_location"
   ]
  },
  {
   "cell_type": "code",
   "execution_count": 4,
   "metadata": {},
   "outputs": [],
   "source": [
    "euclidean_map = []\n",
    "for i in range(len(coor)):\n",
    "    euclidean_map.append([np.sqrt(np.sum(np.square(t - coor[i]))) for t in coor]) \n",
    "euclidean_map = np.array(euclidean_map)"
   ]
  },
  {
   "cell_type": "code",
   "execution_count": 5,
   "metadata": {},
   "outputs": [],
   "source": [
    "def getCDFMap(p_location,d_t):\n",
    "    ## calaulate normalized probability for every position and build CDF map\n",
    "    ## inputs\n",
    "    #  p_location: the previous location\n",
    "    #  d_t: time interval\n",
    "    v_max = np.random.normal(1.2,0.8)\n",
    "    sigma = v_max * d_t\n",
    "    co = coor#[t for t in coor if np.sqrt(np.sum(np.square(t - p_location)))<sigma]\n",
    "    euclidean = [np.sqrt(np.sum(np.square(t - p_location))) for t in co] \n",
    "    furthest_location = euclidean.index(max(euclidean))\n",
    "    p = [np.exp(-(np.sum(np.square(t-p_location)))/(2*sigma**2)) for t in co]\n",
    "    p_norm = np.array(p)/sum(p)\n",
    "    for i in range(1,len(p_norm)):\n",
    "        p_norm[i] += p_norm[i-1]\n",
    "    return p_norm"
   ]
  },
  {
   "cell_type": "code",
   "execution_count": 60,
   "metadata": {},
   "outputs": [],
   "source": [
    "def getRotationMatrix(gra,m):\n",
    "    Ax = gra[0]\n",
    "    Ay = gra[1]\n",
    "    Az = gra[2]\n",
    "    Ex = m[0]\n",
    "    Ey = m[1]\n",
    "    Ez = m[2]\n",
    "    Hx = Ey*Az - Ez*Ay\n",
    "    Hy = Ez*Ax - Ex*Az\n",
    "    Hz = Ex*Ay - Ey*Ax\n",
    "    normH = np.sqrt(Hx*Hx + Hy*Hy + Hz*Hz)\n",
    "    if normH < 0.1:\n",
    "        return False\n",
    "    invH = 1.0 / normH\n",
    "    Hx *= invH\n",
    "    Hy *= invH\n",
    "    Hz *= invH\n",
    "    invA = 1.0 / np.sqrt(Ax*Ax + Ay*Ay + Az*Az)\n",
    "    Ax *= invA\n",
    "    Ay *= invA\n",
    "    Az *= invA\n",
    "    Mx = Ay*Hz - Az*Hy\n",
    "    My = Az*Hx - Ax*Hz\n",
    "    Mz = Ax*Hy - Ay*Hx\n",
    "    R = np.array([Hx,Hy,Hz,Mx,My,Mz,Ax,Ay,Az])\n",
    "    return R"
   ]
  },
  {
   "cell_type": "code",
   "execution_count": 61,
   "metadata": {},
   "outputs": [],
   "source": [
    "a = 6378137\n",
    "e = 8.1819190842622e-2\n",
    "asq = np.power(a,2)\n",
    "esq = np.power(e,2)\n",
    "def ecef2lla(ecef):\n",
    "    x = ecef[0]\n",
    "    y = ecef[1]\n",
    "    z = ecef[2]\n",
    "    r = ecef[3]\n",
    "    b = np.sqrt( asq * (1-esq) )\n",
    "    bsq = np.power(b,2)\n",
    "    ep = np.sqrt( (asq - bsq)/bsq)\n",
    "    p = np.sqrt(np.power(x,2) + np.power(y,2) )\n",
    "    th = np.arctan2(a*z, b*p)\n",
    "    lon = np.arctan2(y,x)\n",
    "    lat = np.arctan2( (z + np.power(ep,2)*b*np.power(np.sin(th),3) ), (p - esq*a*np.power(np.cos(th),3)) )\n",
    "    N = a/( np.sqrt(1-esq*np.power(np.sin(lat),2)) )\n",
    "    alt = p / np.cos(lat) - N\n",
    "    lon = lon % (2*np.pi)\n",
    "    ret = [lat, lon, alt , r]\n",
    "    return ret"
   ]
  },
  {
   "cell_type": "code",
   "execution_count": 149,
   "metadata": {},
   "outputs": [],
   "source": [
    "def getDatas(location):\n",
    "    ## get data from a loaction and preprocess\n",
    "    # thinkng of adding time stamp to get data\n",
    "    GPSDataDir = glob.glob(\"transfer_gps/indoor/{:02d}/*.txt\".format(location))\n",
    "    WifiNMagDatas = np.loadtxt('20201022/indoor/wifi/dataRssi_at_{:d}.txt'.format(location))\n",
    "    WifiNMagChosen = np.random.randint(len(WifiNMagDatas))\n",
    "    # if timestamp:\n",
    "    #   wifitimestamp = ?\n",
    "    #   gpstimestamp = ?\n",
    "    #   gps chosen = argmin(gpstimestamp - wifitimestamp)\n",
    "    #print(location)\n",
    "    #print(len(GPSDataDir))\n",
    "    GPSChosen = np.random.randint(len(GPSDataDir))\n",
    "    wifi = WifiNMagDatas[WifiNMagChosen,:15]                     #wifi preprocess\n",
    "    m = WifiNMagDatas[WifiNMagChosen,-15:-12]/100                #mag preprocess\n",
    "    gra = WifiNMagDatas[WifiNMagChosen,-3:]/100\n",
    "    R = getRotationMatrix(gra,m)\n",
    "    g_mag = np.dot(R.reshape(3,3),m.reshape(3,1))\n",
    "    f = np.loadtxt(GPSDataDir[GPSChosen],delimiter=\",\").copy()   #GPS preprocess\n",
    "    o = np.argsort(f,axis=(0))[:,3]\n",
    "    f = np.array([ecef2lla(d) for d in f])\n",
    "    f = f/np.array([(2*np.pi),(2*np.pi),1e+8,1e+14])\n",
    "    GPS = f[o]\n",
    "    GPS.resize((10,4))\n",
    "    return wifi,g_mag, GPS\n",
    "    "
   ]
  },
  {
   "cell_type": "code",
   "execution_count": 155,
   "metadata": {},
   "outputs": [],
   "source": [
    "def GenerateRoute(points):\n",
    "    WifiData = []\n",
    "    MagData = []\n",
    "    GPSData = []\n",
    "    labels = []\n",
    "    start = np.random.randint(0,8)\n",
    "    w,m,g = getDatas(start+1)\n",
    "    WifiData.append(w)\n",
    "    MagData.append(m)\n",
    "    GPSData.append(g)\n",
    "    labels.append(start+1)\n",
    "    for i in range(points):\n",
    "        if i ==0:\n",
    "            #print(start+1)\n",
    "            NextPos = np.argmax(getCDFMap(coor[start],1)>np.random.rand())\n",
    "        else:\n",
    "            NextPos = np.argmax(getCDFMap(coor[NextPos],1)>np.random.rand())\n",
    "        w,m,g = getDatas(NextPos+1)\n",
    "        WifiData.append(w)\n",
    "        MagData.append(m)\n",
    "        GPSData.append(g)\n",
    "        labels.append(NextPos+1)\n",
    "        #print(NextPos+1)\n",
    "    return np.array(WifiData),np.array(MagData), np.array(GPSData),np.array(labels)"
   ]
  },
  {
   "cell_type": "code",
   "execution_count": 170,
   "metadata": {},
   "outputs": [
    {
     "data": {
      "text/plain": [
       "array([7, 5, 1, 8, 8, 2, 5, 5, 3, 3, 6])"
      ]
     },
     "execution_count": 170,
     "metadata": {},
     "output_type": "execute_result"
    }
   ],
   "source": [
    "W,M,G,L = GenerateRoute(10)\n",
    "L.reshape(-1)"
   ]
  },
  {
   "cell_type": "code",
   "execution_count": 171,
   "metadata": {},
   "outputs": [
    {
     "data": {
      "text/plain": [
       "(11,)"
      ]
     },
     "execution_count": 171,
     "metadata": {},
     "output_type": "execute_result"
    }
   ],
   "source": [
    "L.shape"
   ]
  },
  {
   "cell_type": "code",
   "execution_count": 160,
   "metadata": {},
   "outputs": [],
   "source": [
    "def DataGenerator(data_num,steps):\n",
    "    ## generate train data\n",
    "    # inputs:\n",
    "    # data_num:how many route to generate\n",
    "    # steps: how many location to move in a route\n",
    "    datas = []\n",
    "    for i in range(data_num):\n",
    "        W,M,G,L = GenerateRoute(steps)\n",
    "        L.reshape()\n",
    "        for i in range(len(W)):\n",
    "            #wifi add noise\n",
    "            mask = np.random.rand((15))\n",
    "            mask = (mask>0.1).astype(int)\n",
    "            noise = np.random.normal(scale = 0.05,size=(15))\n",
    "            W[i]*mask\n",
    "            W[i]+noise\n",
    "        #mag normalized\n",
    "        M = M.astype('float32')\n",
    "        M = M.reshape(-1,3)\n",
    "        M = (M - M.mean(axis=0)) / M.std(axis = 0)\n",
    "        datas.append([W,M,G,L])\n",
    "    return datas"
   ]
  },
  {
   "cell_type": "code",
   "execution_count": 161,
   "metadata": {},
   "outputs": [],
   "source": [
    "datas = DataGenerator(10,20)"
   ]
  },
  {
   "cell_type": "code",
   "execution_count": 165,
   "metadata": {},
   "outputs": [
    {
     "data": {
      "text/plain": [
       "(21, 10, 4)"
      ]
     },
     "execution_count": 165,
     "metadata": {},
     "output_type": "execute_result"
    }
   ],
   "source": [
    "datas[3][2].shape"
   ]
  },
  {
   "cell_type": "code",
   "execution_count": null,
   "metadata": {},
   "outputs": [],
   "source": []
  }
 ],
 "metadata": {
  "kernelspec": {
   "display_name": "gps_wifi",
   "language": "python",
   "name": "gps_wifi"
  },
  "language_info": {
   "codemirror_mode": {
    "name": "ipython",
    "version": 3
   },
   "file_extension": ".py",
   "mimetype": "text/x-python",
   "name": "python",
   "nbconvert_exporter": "python",
   "pygments_lexer": "ipython3",
   "version": "3.6.10"
  }
 },
 "nbformat": 4,
 "nbformat_minor": 4
}
