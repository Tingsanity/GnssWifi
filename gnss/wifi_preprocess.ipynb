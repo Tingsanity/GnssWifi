{
 "cells": [
  {
   "cell_type": "code",
   "execution_count": 1,
   "metadata": {},
   "outputs": [],
   "source": [
    "import numpy as np\n",
    "import pandas as pd"
   ]
  },
  {
   "cell_type": "code",
   "execution_count": 2,
   "metadata": {},
   "outputs": [],
   "source": [
    "dataFilter = [['FullBiasNanos','FullBiasNanos ~= 0'],['ConstellationType','ConstellationType==1'],['State','bitand(State,2^0) & bitand(State,2^3)']]\n",
    "gnssAnalyze = {\n",
    "    \"GnssClockErrors\":'GnssClock Errors.' ,\n",
    "    \"GnssMeasurementErrors\":'GnssMeasurement Errors.',\n",
    "    \"ApiPassFail\":'' \n",
    "}"
   ]
  },
  {
   "cell_type": "code",
   "execution_count": 3,
   "metadata": {},
   "outputs": [],
   "source": [
    "File = 9\n",
    "prFileName = '%d.txt'%File\n",
    "dirName = '/home/lyt/gnss_wifi/gnss/GPSdata/'\n",
    "outputname = 'outplot/1out_in'"
   ]
  },
  {
   "cell_type": "raw",
   "metadata": {},
   "source": [
    "f = open(dirName + prFileName)\n",
    "data = f.readlines()\n",
    "#f.close()"
   ]
  },
  {
   "cell_type": "raw",
   "metadata": {},
   "source": [
    "data[3].find('Platform')"
   ]
  },
  {
   "cell_type": "raw",
   "metadata": {},
   "source": [
    "datastring[48+10:48+15]"
   ]
  },
  {
   "cell_type": "code",
   "execution_count": 4,
   "metadata": {},
   "outputs": [],
   "source": [
    "f = open(dirName + prFileName)\n",
    "datastring = f.read()\n",
    "#datastring"
   ]
  },
  {
   "cell_type": "code",
   "execution_count": 5,
   "metadata": {},
   "outputs": [],
   "source": [
    "f = open(dirName + prFileName)\n",
    "datastring = f.read()\n",
    "f = open(dirName + prFileName)\n",
    "data = f.readlines()\n",
    "f.close()\n",
    "iDigits = datastring.find('Version')\n",
    "version = datastring[iDigits+9:iDigits+17]\n",
    "iDigits = datastring.find('Platform')\n",
    "platform = datastring[iDigits+10:iDigits+15]"
   ]
  },
  {
   "cell_type": "code",
   "execution_count": 6,
   "metadata": {},
   "outputs": [
    {
     "data": {
      "text/plain": [
       "('v2.0.0.1', '8.0.0')"
      ]
     },
     "execution_count": 6,
     "metadata": {},
     "output_type": "execute_result"
    }
   ],
   "source": [
    "version, platform"
   ]
  },
  {
   "cell_type": "code",
   "execution_count": 7,
   "metadata": {},
   "outputs": [],
   "source": [
    "rawlist = []\n",
    "for i in range(len(data)):\n",
    "    if data[i].find('Raw') != -1 and data[i].find('# Raw')==-1 :\n",
    "        rawlist.append(i)\n",
    "#print(rawlist) #12,22  37,46"
   ]
  },
  {
   "cell_type": "code",
   "execution_count": 8,
   "metadata": {},
   "outputs": [],
   "source": [
    "\n",
    "head = data[5].split(',')[1:]\n",
    "head[-1] = head[-1][:head[-1].find('\\n')]\n",
    "\n",
    "df2 = pd.DataFrame(columns=head)\n",
    "for j in range(len(rawlist)):\n",
    "    i = rawlist[j]\n",
    "    if j == 0:\n",
    "        time = 0\n",
    "        df = pd.DataFrame(columns=head)\n",
    "    ldata_f = []\n",
    "    ldata = data[i].split(',')[1:]\n",
    "    ldata[-1] = ldata[-1][:ldata[-1].find('\\n')]\n",
    "    for m in ldata:\n",
    "        if m != '':\n",
    "            ldata_f.append(float(m))\n",
    "        else:\n",
    "            ldata_f.append(m)\n",
    "    #print(j)\n",
    "    ldf = pd.DataFrame([ldata_f],columns=head)\n",
    "    \n",
    "    df = df.append(ldf,ignore_index=True)\n",
    "    \n",
    "    if i == rawlist[-1]:\n",
    "        #df = df.sort_values(by=['Cn0DbHz'],ascending=False)\n",
    "        #df = df.drop_duplicates('Svid')\n",
    "        #df = df.reset_index()\n",
    "        df = pd.concat([df],keys=['t'+ str(time)])\n",
    "        t_end = time\n",
    "        df = df.assign(allRxMills = (df.TimeNanos - df.FullBiasNanos)*1e-6)\n",
    "        df_g = pd.concat([df_g,df])\n",
    "        \n",
    "    elif rawlist[j+1] -i >1:\n",
    "        #df = df.sort_values(by=['Cn0DbHz'],ascending=False)\n",
    "        #df = df.drop_duplicates('Svid')\n",
    "        #df = df.reset_index()\n",
    "        df = pd.concat([df],keys=['t'+ str(time)])\n",
    "        df = df.assign(allRxMills = (df.TimeNanos - df.FullBiasNanos)*1e-6)\n",
    "        if time == 0:\n",
    "            df_g = pd.concat([df])\n",
    "        else:\n",
    "            df_g = pd.concat([df_g,df])\n",
    "        time += 1\n",
    "        df = pd.DataFrame(columns=head)\n",
    "    \n",
    "    \n"
   ]
  },
  {
   "cell_type": "code",
   "execution_count": 9,
   "metadata": {},
   "outputs": [
    {
     "data": {
      "text/plain": [
       "['ElapsedRealtimeMillis',\n",
       " 'TimeNanos',\n",
       " 'LeapSecond',\n",
       " 'TimeUncertaintyNanos',\n",
       " 'FullBiasNanos',\n",
       " 'BiasNanos',\n",
       " 'BiasUncertaintyNanos',\n",
       " 'DriftNanosPerSecond',\n",
       " 'DriftUncertaintyNanosPerSecond',\n",
       " 'HardwareClockDiscontinuityCount',\n",
       " 'Svid',\n",
       " 'TimeOffsetNanos',\n",
       " 'State',\n",
       " 'ReceivedSvTimeNanos',\n",
       " 'ReceivedSvTimeUncertaintyNanos',\n",
       " 'Cn0DbHz',\n",
       " 'PseudorangeRateMetersPerSecond',\n",
       " 'PseudorangeRateUncertaintyMetersPerSecond',\n",
       " 'AccumulatedDeltaRangeState',\n",
       " 'AccumulatedDeltaRangeMeters',\n",
       " 'AccumulatedDeltaRangeUncertaintyMeters',\n",
       " 'CarrierFrequencyHz',\n",
       " 'CarrierCycles',\n",
       " 'CarrierPhase',\n",
       " 'CarrierPhaseUncertainty',\n",
       " 'MultipathIndicator',\n",
       " 'SnrInDb',\n",
       " 'ConstellationType',\n",
       " 'AgcDb',\n",
       " 'CarrierFrequencyHz']"
      ]
     },
     "execution_count": 9,
     "metadata": {},
     "output_type": "execute_result"
    }
   ],
   "source": [
    "head"
   ]
  },
  {
   "cell_type": "raw",
   "metadata": {},
   "source": [
    "dd=df.sort_values(by=['Cn0DbHz'],ascending=False)\n",
    "dd = dd.drop_duplicates('Svid')\n",
    "len(dd.Svid)"
   ]
  },
  {
   "cell_type": "raw",
   "metadata": {},
   "source": [
    "#dd = dd.sort_index()\n",
    "dd = dd.reset_index()\n",
    "[dd.Svid,dd.Svid.duplicated(),dd.Cn0DbHz]"
   ]
  },
  {
   "cell_type": "raw",
   "metadata": {},
   "source": [
    "df_g.loc['t0'][[\"TimeNanos\",'FullBiasNanos',\"Svid\",\"ReceivedSvTimeNanos\",'PseudorangeRateMetersPerSecond','AccumulatedDeltaRangeMeters','CarrierPhase']]"
   ]
  },
  {
   "cell_type": "raw",
   "metadata": {},
   "source": [
    "df_g.keys()"
   ]
  },
  {
   "cell_type": "code",
   "execution_count": 10,
   "metadata": {},
   "outputs": [],
   "source": [
    "#df_g['Cn0DbHz']['t'+str(0)].mean()"
   ]
  },
  {
   "cell_type": "code",
   "execution_count": 11,
   "metadata": {},
   "outputs": [],
   "source": [
    "def JulianDay(time):\n",
    "    y = time[0]\n",
    "    m = time[1]\n",
    "    d = time[2]\n",
    "    h = time[3] + time[4]/60 + time[5]/3600;\n",
    "    if m<=2: #index into months <=2\n",
    "        m = m + 12\n",
    "        y = y - 1\n",
    "    return np.floor(365.25*y) + np.floor(30.6001*(m+1)) -15 + 1720996.5 + d + h/24"
   ]
  },
  {
   "cell_type": "markdown",
   "metadata": {},
   "source": [
    "utcTable = [[1982, 1, 1, 0, 0, 0],\n",
    "            [1982, 7, 1, 0, 0, 0],\n",
    "            [1983, 7, 1, 0, 0, 0],\n",
    "            [1985, 7, 1, 0, 0, 0],\n",
    "            [1988, 1, 1, 0, 0, 0],\n",
    "            [1990, 1, 1, 0, 0, 0],\n",
    "            [1991, 1, 1, 0, 0, 0],\n",
    "            [1992, 7, 1, 0, 0, 0],\n",
    "            [1993, 7, 1, 0, 0, 0],\n",
    "            [1994, 7, 1, 0, 0, 0],\n",
    "            [1996, 1, 1, 0, 0, 0],\n",
    "            [1997, 7, 1, 0, 0, 0],\n",
    "            [1999, 1, 1, 0, 0, 0],\n",
    "            [2006, 1, 1, 0, 0, 0],\n",
    "            [2009, 1, 1, 0, 0, 0],\n",
    "            [2012, 7, 1, 0, 0, 0],\n",
    "            [2015, 7, 1, 0, 0, 0],\n",
    "            [2017, 1, 1, 0, 0, 0]\n",
    "         ]\n",
    "tableJDays=[]\n",
    "GPSEPOCHJD = 2444244.5\n",
    "DAYSEC = 86400\n",
    "for ut in utcTable:\n",
    "    tableJDays.append(JulianDay(ut)- GPSEPOCHJD)\n",
    "tableSeconds = np.array(tableJDays) * DAYSEC\n",
    "jDays = []\n",
    "for ut in utcTime:\n",
    "    jDays = JulianDay(ut)- GPSEPOCHJD\n",
    "timeSeconds = np.array(jDays)*DAYSEC\n",
    "leapSecs= np.zeros(1)"
   ]
  },
  {
   "cell_type": "markdown",
   "metadata": {},
   "source": [
    "np.sum(timeSeconds>=tableSeconds)"
   ]
  },
  {
   "cell_type": "code",
   "execution_count": 12,
   "metadata": {},
   "outputs": [],
   "source": [
    "def LeapSeconds(utcTime):\n",
    "    utcTable = [[1982, 1, 1, 0, 0, 0],\n",
    "            [1982, 7, 1, 0, 0, 0],\n",
    "            [1983, 7, 1, 0, 0, 0],\n",
    "            [1985, 7, 1, 0, 0, 0],\n",
    "            [1988, 1, 1, 0, 0, 0],\n",
    "            [1990, 1, 1, 0, 0, 0],\n",
    "            [1991, 1, 1, 0, 0, 0],\n",
    "            [1992, 7, 1, 0, 0, 0],\n",
    "            [1993, 7, 1, 0, 0, 0],\n",
    "            [1994, 7, 1, 0, 0, 0],\n",
    "            [1996, 1, 1, 0, 0, 0],\n",
    "            [1997, 7, 1, 0, 0, 0],\n",
    "            [1999, 1, 1, 0, 0, 0],\n",
    "            [2006, 1, 1, 0, 0, 0],\n",
    "            [2009, 1, 1, 0, 0, 0],\n",
    "            [2012, 7, 1, 0, 0, 0],\n",
    "            [2015, 7, 1, 0, 0, 0],\n",
    "            [2017, 1, 1, 0, 0, 0]\n",
    "         ]\n",
    "    tableJDays=[]\n",
    "    GPSEPOCHJD = 2444244.5\n",
    "    DAYSEC = 86400\n",
    "    for ut in utcTable:\n",
    "        tableJDays.append(JulianDay(ut)- GPSEPOCHJD)\n",
    "    tableSeconds = np.array(tableJDays) * DAYSEC\n",
    "    jDays = []\n",
    "    for ut in utcTime:\n",
    "        jDays = JulianDay(ut)- GPSEPOCHJD\n",
    "    timeSeconds = np.array(jDays)*DAYSEC\n",
    "    leapSecs= np.zeros(1)\n",
    "    return np.sum(timeSeconds>=tableSeconds)"
   ]
  },
  {
   "cell_type": "code",
   "execution_count": 13,
   "metadata": {},
   "outputs": [],
   "source": [
    "def Fct2Ymdhms(svtest):\n",
    "    \n",
    "    HOURSEC = 3600\n",
    "    MINSEC = 60\n",
    "    monthDays=[31,28,31,30,31,30,31,31,30,31,30,31]\n",
    "    DAYSEC = 86400\n",
    "    days = np.array(np.floor(svtest/DAYSEC)+6)\n",
    "    years = np.zeros([days.size])+1980\n",
    "    leap = np.ones([days.size])\n",
    "    time = np.zeros([days.size,6])\n",
    "    while((days > leap+365).any()):\n",
    "        I = np.where(days > (leap+365),1,0)\n",
    "        days = days - I * (leap + 365)\n",
    "        years =years + I;\n",
    "        leap = leap*(1-I) + np.where(years%4 == 0,1,0)\n",
    "    time[:,0] = years\n",
    "    \n",
    "    for i in range(days.size):\n",
    "        month = 1\n",
    "        if (years[i]%4 == 0):  #This works from 1901 till 2099\n",
    "            monthDays[1]=29 #Make February have 29 days in a leap year\n",
    "        else:\n",
    "            monthDays[1]=28\n",
    "        while (days[i] > monthDays[month]):\n",
    "            days[i] = days[i]-monthDays[month-1]\n",
    "            month = month+1\n",
    "        time[i,1] = month\n",
    "    \n",
    "    time[:,2] = days\n",
    "    sinceMidnightSeconds = svtest % DAYSEC\n",
    "    time[:,3] = np.floor(sinceMidnightSeconds/HOURSEC)\n",
    "    lastHourSeconds = sinceMidnightSeconds % HOURSEC\n",
    "    time[:,4] = np.floor(lastHourSeconds/MINSEC)\n",
    "    time[:,5] = lastHourSeconds%MINSEC\n",
    "    return time"
   ]
  },
  {
   "cell_type": "code",
   "execution_count": 14,
   "metadata": {},
   "outputs": [],
   "source": [
    "def gps2utc(allRxMills):\n",
    "    svtest = 1e-3*np.array(allRxMills)\n",
    "    time = Fct2Ymdhms(svtest)\n",
    "    ls = LeapSeconds(time)\n",
    "    timeMLs = Fct2Ymdhms(svtest-ls)\n",
    "    ls1 = LeapSeconds(timeMLs)\n",
    "    if (ls1==ls):\n",
    "        utcTime = timeMLs\n",
    "    else:\n",
    "        utcTime = Fct2Ymdhms(fctSeconds-ls1)\n",
    "    return utcTime"
   ]
  },
  {
   "cell_type": "code",
   "execution_count": 15,
   "metadata": {},
   "outputs": [],
   "source": [
    "def gps2glo(t):\n",
    "    svtest = 1e-3*np.array(t)\n",
    "    time = Fct2Ymdhms(svtest)\n",
    "    ls = LeapSeconds(time)\n",
    "    timeMLs = Fct2Ymdhms(svtest-ls)\n",
    "    ls1 = LeapSeconds(timeMLs)\n",
    "    if (ls1==ls):\n",
    "        gloTime = svtest-ls+10800\n",
    "    else:\n",
    "        gloTime = svtest-ls1+10800\n",
    "    return gloTime"
   ]
  },
  {
   "cell_type": "code",
   "execution_count": 16,
   "metadata": {},
   "outputs": [],
   "source": [
    "def utc2gps(utcTime):\n",
    "    gpsTime = []\n",
    "    fctSeconds = []\n",
    "    HOURSEC = 3600\n",
    "    MINSEC = 60\n",
    "    GPSEPOCHJD = 2444244.5    \n",
    "    daysSinceEpoch = np.floor(JulianDay(utcTime) - GPSEPOCHJD);\n",
    "    gpsWeek = np.fix(daysSinceEpoch/7)\n",
    "    dayofweek = np.remainder(daysSinceEpoch,7)\n",
    "    DAYSEC = 86400\n",
    "    gpsSeconds = dayofweek*DAYSEC + utcTime[3]*HOURSEC + utcTime[4]*MINSEC + utcTime[5]\n",
    "    WEEKSEC = 604800\n",
    "    gpsWeek = gpsWeek + np.fix(gpsSeconds/WEEKSEC)\n",
    "    gpsSeconds = np.remainder(gpsSeconds,WEEKSEC)\n",
    "    leapSecs = LeapSeconds([utcTime])\n",
    "    fctSeconds = gpsWeek*WEEKSEC + gpsSeconds# + leapSecs\n",
    "    gpsWeek = np.fix(fctSeconds/WEEKSEC)\n",
    "    if (gpsWeek==0):\n",
    "        iZ = 1\n",
    "    else:\n",
    "        iZ = 0\n",
    "    if iZ:\n",
    "        gpsSeconds = fctSeconds\n",
    "    else:\n",
    "        gpsSeconds = np.remainder(fctSeconds,gpsWeek*WEEKSEC)\n",
    "    gpsTime=[gpsWeek,gpsSeconds]\n",
    "\n",
    "    return gpsTime,fctSeconds"
   ]
  },
  {
   "cell_type": "raw",
   "metadata": {},
   "source": [
    "utcTime = gps2utc(df_g.allRxMills.t0[0])\n",
    "utcTime"
   ]
  },
  {
   "cell_type": "code",
   "execution_count": 17,
   "metadata": {},
   "outputs": [
    {
     "data": {
      "text/plain": [
       "array([[2020.        ,    7.        ,    6.        ,    8.        ,\n",
       "          30.        ,   34.77916002]])"
      ]
     },
     "execution_count": 17,
     "metadata": {},
     "output_type": "execute_result"
    }
   ],
   "source": [
    "utcTime = gps2utc(df_g.allRxMills.t0[0])\n",
    "utcTime"
   ]
  },
  {
   "cell_type": "code",
   "execution_count": 18,
   "metadata": {},
   "outputs": [
    {
     "data": {
      "text/plain": [
       "([2113.0, 117034.77916002274], 1278059434.77916)"
      ]
     },
     "execution_count": 18,
     "metadata": {},
     "output_type": "execute_result"
    }
   ],
   "source": [
    "gpsTime, F= utc2gps(utcTime[0])\n",
    "gpsTime,F"
   ]
  },
  {
   "cell_type": "code",
   "execution_count": 19,
   "metadata": {},
   "outputs": [
    {
     "data": {
      "text/plain": [
       "1278059452779.16"
      ]
     },
     "execution_count": 19,
     "metadata": {},
     "output_type": "execute_result"
    }
   ],
   "source": [
    "df_g.allRxMills.t0[0]"
   ]
  },
  {
   "cell_type": "raw",
   "metadata": {},
   "source": [
    "utcTime = gps2utc(1.151357407816000e+12)\n",
    "utcTime = utcTime[0]\n",
    "utcTime"
   ]
  },
  {
   "cell_type": "code",
   "execution_count": 20,
   "metadata": {},
   "outputs": [],
   "source": [
    "yearNumber4Digit = utcTime[0][0];\n",
    "yearNumber2Digit = utcTime[0][0]%100;\n",
    "\n",
    "\n",
    "jDay = JulianDay([utcTime[0][0],utcTime[0][1],utcTime[0][2],0,0,0])\n",
    "jDayJan1 = JulianDay([utcTime[0][0],1,1,0,0,0])\n",
    "dayNumber = jDay - jDayJan1 + 1"
   ]
  },
  {
   "cell_type": "code",
   "execution_count": 21,
   "metadata": {},
   "outputs": [],
   "source": [
    "hourlyZFile = 'hour{:03.0f}0.{:02.0f}n.Z'.format(dayNumber,yearNumber2Digit)"
   ]
  },
  {
   "cell_type": "code",
   "execution_count": 22,
   "metadata": {},
   "outputs": [
    {
     "data": {
      "text/plain": [
       "'hour1880.20n.Z'"
      ]
     },
     "execution_count": 22,
     "metadata": {},
     "output_type": "execute_result"
    }
   ],
   "source": [
    "hourlyZFile"
   ]
  },
  {
   "cell_type": "code",
   "execution_count": 23,
   "metadata": {},
   "outputs": [],
   "source": [
    "ephFilename = hourlyZFile.split('.Z')[0]"
   ]
  },
  {
   "cell_type": "code",
   "execution_count": 24,
   "metadata": {},
   "outputs": [
    {
     "data": {
      "text/plain": [
       "'hour1880.20n'"
      ]
     },
     "execution_count": 24,
     "metadata": {},
     "output_type": "execute_result"
    }
   ],
   "source": [
    "ephFilename"
   ]
  },
  {
   "cell_type": "code",
   "execution_count": 25,
   "metadata": {},
   "outputs": [],
   "source": [
    "import os \n",
    "from ftplib import FTP\n",
    "import zlib\n",
    "if not os.path.isdir(\"../gnss/GPSephermise\"):\n",
    "    os.makedirs(\"../gnss/GPSephermise\")\n",
    "\n",
    "if not os.path.isfile(\"../gnss/GPSephermise/\"+ephFilename):\n",
    "    Ephdir = \"./GPSephermise/\"\n",
    "    ftpSiteName = 'cddis.gsfc.nasa.gov'\n",
    "    hourlyDir = '/gnss/data/hourly/%4d/%03d/' + str(yearNumber4Digit) + str(dayNumber)\n",
    "    try:\n",
    "        ftp = FTP(ftpSiteName)\n",
    "        ftp.login()\n",
    "        ftp.cwd('/gnss/data/hourly/{:4.0f}/{:03.0f}'.format(yearNumber4Digit,dayNumber))\n",
    "        ftp.retrbinary(\"RETR \" + hourlyZFile, open(Ephdir+hourlyZFile, 'wb').write)\n",
    "        os.system( \"uncompress \" + Ephdir +hourlyZFile)\n",
    "\n",
    "    except:\n",
    "        print('\\nAutomatic ftp download failed.\\n')\n",
    "        print('Please go to this ftp, ftp://cddis.gsfc.nasa.gov/ \\n')\n",
    "        print('and get this file:{:s}{:s} \\n'.format(hourlyDir,hourlyZFile))\n",
    "        print('Extract contents to the directory with your pseudorange log file:\\n')\n",
    "        print('{:s}\\n'.format(dirName))\n",
    "        print('To unzip the *.Z file, see http://www.gzip.org/\\n')\n",
    "        print('Then run this function again, it will read from that directory\\n')\n",
    "allGpsEph = open(\"../gnss/GPSephermise/\"+ephFilename,\"r\")\n",
    "rinex = allGpsEph.read().splitlines()"
   ]
  },
  {
   "cell_type": "raw",
   "metadata": {},
   "source": [
    "from ftplib import FTP\n",
    "import zlib\n",
    "Ephdir = \"./GPSephermise/\"\n",
    "ftpSiteName = 'cddis.gsfc.nasa.gov'\n",
    "hourlyDir = '/gnss/data/hourly/%4d/%03d/' + str(yearNumber4Digit) + str(dayNumber)\n",
    "try:\n",
    "    ftp = FTP(ftpSiteName)\n",
    "    ftp.login()\n",
    "    ftp.cwd('/gnss/data/hourly/{:4.0f}/{:03.0f}'.format(yearNumber4Digit,dayNumber))\n",
    "    ftp.retrbinary(\"RETR \" + hourlyZFile, open(Ephdir+hourlyZFile, 'wb').write)\n",
    "    os.system( \"uncompress \" + Ephdir +hourlyZFile)\n",
    "\n",
    "except:\n",
    "    print('\\nAutomatic ftp download failed.\\n')\n",
    "    print('Please go to this ftp, ftp://cddis.gsfc.nasa.gov/ \\n')\n",
    "    print('and get this file:{:s}{:s} \\n'.format(hourlyDir,hourlyZFile))\n",
    "    print('Extract contents to the directory with your pseudorange log file:\\n')\n",
    "    print('{:s}\\n'.format(dirName))\n",
    "    print('To unzip the *.Z file, see http://www.gzip.org/\\n')\n",
    "    print('Then run this function again, it will read from that directory\\n')"
   ]
  },
  {
   "cell_type": "raw",
   "metadata": {},
   "source": [
    "f = open(\"../gnss/GPSephermise/\"+ephFilename,\"r\")\n",
    "rinex = f.read().splitlines()"
   ]
  },
  {
   "cell_type": "code",
   "execution_count": 26,
   "metadata": {},
   "outputs": [],
   "source": [
    "class Iono():\n",
    "    def __init__(self,alpha,beta):\n",
    "        self.alpha = alpha\n",
    "        self.beta = beta"
   ]
  },
  {
   "cell_type": "code",
   "execution_count": 27,
   "metadata": {},
   "outputs": [
    {
     "data": {
      "text/plain": [
       "402.0"
      ]
     },
     "execution_count": 27,
     "metadata": {},
     "output_type": "execute_result"
    }
   ],
   "source": [
    "for i in range(len(rinex)):\n",
    "    if rinex[i].find(\"END OF HEADER\") != -1:\n",
    "        numHdrLines = i+1\n",
    "    if rinex[i].find(\"ION ALPHA\") != -1:\n",
    "        alpha = rinex[i][:rinex[i].find(\"ION ALPHA\") -1].split()\n",
    "        for i in range (len(alpha)):\n",
    "            alpha[i] = float(alpha[i].replace('D','e'))\n",
    "    if rinex[i].find(\"ION BETA\") != -1:\n",
    "        beta = rinex[i][:rinex[i].find(\"ION BETA\") -1].split()\n",
    "        for i in range (len(beta)):\n",
    "            beta[i] = float(beta[i].replace('D','e'))\n",
    "iono = Iono(alpha,beta)\n",
    "numEph = (len(rinex)-numHdrLines)/8\n",
    "numEph"
   ]
  },
  {
   "cell_type": "code",
   "execution_count": 28,
   "metadata": {},
   "outputs": [],
   "source": [
    "class InitializeGpsEph():\n",
    "    #utility function to initialize the ephemeris structure\n",
    "    def __init__(self):\n",
    "        self.PRN         = 0;\n",
    "        self.Toc         = 0;\n",
    "        self.af0         = 0;\n",
    "        self.af1         = 0;\n",
    "        self.af2         = 0;\n",
    "        self.IODE        = 0;\n",
    "        self.Crs         = 0;\n",
    "        self.Delta_n     = 0;\n",
    "        self.M0          = 0;\n",
    "        self.Cuc         = 0;\n",
    "        self.e           = 0;\n",
    "        self.Cus         = 0;\n",
    "        self.Asqrt       = 0;\n",
    "        self.Toe         = 0;\n",
    "        self.Cic         = 0;\n",
    "        self.OMEGA       = 0;\n",
    "        self.Cis         = 0;\n",
    "        self.i0          = 0;\n",
    "        self.Crc         = 0;\n",
    "        self.omega       = 0;\n",
    "        self.OMEGA_DOT   = 0;\n",
    "        self.IDOT        = 0;\n",
    "        self.codeL2      = 0;\n",
    "        self.GPS_Week    = 0;\n",
    "        self.L2Pdata     = 0;\n",
    "        self.accuracy    = 0;\n",
    "        self.health      = 0;\n",
    "        self.TGD         = 0;\n",
    "        self.IODC        = 0;\n",
    "        self.ttx         = 0;\n",
    "        self.Fit_interval= 0;"
   ]
  },
  {
   "cell_type": "code",
   "execution_count": 29,
   "metadata": {},
   "outputs": [],
   "source": [
    "gpsEphs=[]"
   ]
  },
  {
   "cell_type": "code",
   "execution_count": 30,
   "metadata": {},
   "outputs": [],
   "source": [
    "head = ['PRN','Toc','af0','af1','af2','IODE','Crs','Delta_n','M0','Cuc','e','Cus','Asqrt','Toe','Cic','OMEGA','Cis','i0','Crc','omega'\n",
    "        ,'OMEGA_DOT','IDOT','codeL2','GPS_Week','L2Pdata','accuracy','health','TGD','IODC','ttx','Fit_interval']\n",
    "allGpsEphData = pd.DataFrame(columns=head)"
   ]
  },
  {
   "cell_type": "code",
   "execution_count": 31,
   "metadata": {},
   "outputs": [],
   "source": [
    "for i in range(int(numEph)):\n",
    "    gpsEphs=[]\n",
    "    j = 0\n",
    "    line = rinex[(i+1)*8+j].replace(\"D\",\"e\")\n",
    "    line = line.replace(\"-0.\",\" -0.\")\n",
    "    line = line.split()\n",
    "    gpsEphs.append(float(line[0]))\n",
    "    year = float(line[1])\n",
    "    if year < 80:\n",
    "       year = 2000+year\n",
    "    else:\n",
    "       year = 1900+year\n",
    "    month = float(line[2])\n",
    "    day = float(line[3])\n",
    "    hour = float(line[4])\n",
    "    minute = float(line[5])\n",
    "    second = float(line[6])\n",
    "    gpsTime,F = utc2gps([year,month,day,hour,minute,second])\n",
    "    gpsEphs.append(gpsTime[1])\n",
    "    gpsEphs.append(float(line[7]))\n",
    "    gpsEphs.append(float(line[8]))\n",
    "    gpsEphs.append(float(line[9]))\n",
    "    \n",
    "    j = 1\n",
    "    line = rinex[(i+1)*8+j].replace(\"D\",\"e\")\n",
    "    line = line.replace(\"-0.\",\" -0.\")\n",
    "    line = line.split()\n",
    "    gpsEphs.append(float(line[0]))\n",
    "    gpsEphs.append(float(line[1]))\n",
    "    gpsEphs.append(float(line[2]))\n",
    "    gpsEphs.append(float(line[3]))\n",
    "    \n",
    "    j = 2\n",
    "    line = rinex[(i+1)*8+j].replace(\"D\",\"e\")\n",
    "    line = line.replace(\"-0.\",\" -0.\")\n",
    "    line = line.split()\n",
    "    gpsEphs.append(float(line[0]))\n",
    "    gpsEphs.append(float(line[1]))\n",
    "    gpsEphs.append(float(line[2]))\n",
    "    gpsEphs.append(float(line[3]))\n",
    "    \n",
    "    j = 3\n",
    "    line = rinex[(i+1)*8+j].replace(\"D\",\"e\")\n",
    "    line = line.replace(\"-0.\",\" -0.\")\n",
    "    line = line.split()\n",
    "    gpsEphs.append(float(line[0]))\n",
    "    gpsEphs.append(float(line[1]))\n",
    "    gpsEphs.append(float(line[2]))\n",
    "    gpsEphs.append(float(line[3]))\n",
    "    \n",
    "    j = 4\n",
    "    line = rinex[(i+1)*8+j].replace(\"D\",\"e\")\n",
    "    line = line.replace(\"-0.\",\" -0.\")\n",
    "    line = line.split()\n",
    "    gpsEphs.append(float(line[0]))\n",
    "    gpsEphs.append(float(line[1]))\n",
    "    gpsEphs.append(float(line[2]))\n",
    "    gpsEphs.append(float(line[3]))\n",
    "    \n",
    "    j = 5\n",
    "    line = rinex[(i+1)*8+j].replace(\"D\",\"e\")\n",
    "    line = line.replace(\"-0.\",\" -0.\")\n",
    "    line = line.split()\n",
    "    gpsEphs.append(float(line[0]))\n",
    "    gpsEphs.append(float(line[1]))\n",
    "    gpsEphs.append(float(line[2]))\n",
    "    gpsEphs.append(float(line[3]))\n",
    "    \n",
    "    j = 6\n",
    "    line = rinex[(i+1)*8+j].replace(\"D\",\"e\")\n",
    "    line = line.replace(\"-0.\",\" -0.\")\n",
    "    line = line.split()\n",
    "    gpsEphs.append(float(line[0]))\n",
    "    gpsEphs.append(float(line[1]))\n",
    "    gpsEphs.append(float(line[2]))\n",
    "    gpsEphs.append(float(line[3]))\n",
    "    \n",
    "    j = 7\n",
    "    line = rinex[(i+1)*8+j].replace(\"D\",\"e\")\n",
    "    line = line.replace(\"-0.\",\" -0.\")\n",
    "    line = line.split()\n",
    "    gpsEphs.append(float(line[0]))\n",
    "    gpsEphs.append(float(line[1]))\n",
    "    data = pd.DataFrame([gpsEphs],columns=head)\n",
    "    allGpsEphData = allGpsEphData.append(data,ignore_index=True)"
   ]
  },
  {
   "cell_type": "code",
   "execution_count": 32,
   "metadata": {},
   "outputs": [],
   "source": [
    "#allGpsEphData"
   ]
  },
  {
   "cell_type": "raw",
   "metadata": {},
   "source": [
    "for i in range(int(numEph)):\n",
    "    gpsEphs.append(InitializeGpsEph())\n",
    "    j = 0\n",
    "    line = rinex[(i+1)*8+j].replace(\"D\",\"e\")\n",
    "    line = line.replace(\"-0.\",\" -0.\")\n",
    "    line = line.split()\n",
    "    gpsEphs[i].PRN = float(line[0])\n",
    "    year = float(line[1])\n",
    "    if year < 80:\n",
    "       year = 2000+year\n",
    "    else:\n",
    "       year = 1900+year\n",
    "    month = float(line[2])\n",
    "    day = float(line[3])\n",
    "    hour = float(line[4])\n",
    "    minute = float(line[5])\n",
    "    second = float(line[6])\n",
    "    gpsTime,F = utc2gps([year,month,day,hour,minute,second])\n",
    "    gpsEphs[i].Toc   = gpsTime[1]\n",
    "    gpsEphs[i].af0   = float(line[7])\n",
    "    gpsEphs[i].af1   = float(line[8])\n",
    "    gpsEphs[i].af2   = float(line[9])\n",
    "    \n",
    "    j = 1\n",
    "    line = rinex[(i+1)*8+j].replace(\"D\",\"e\")\n",
    "    line = line.replace(\"-0.\",\" -0.\")\n",
    "    line = line.split()\n",
    "    gpsEphs[i].IODE  = float(line[0])\n",
    "    gpsEphs[i].Crs   = float(line[1])\n",
    "    gpsEphs[i].Delta_n = float(line[2])\n",
    "    gpsEphs[i].M0    = float(line[3])\n",
    "    \n",
    "    j = 2\n",
    "    line = rinex[(i+1)*8+j].replace(\"D\",\"e\")\n",
    "    line = line.replace(\"-0.\",\" -0.\")\n",
    "    line = line.split()\n",
    "    gpsEphs[i].Cue  = float(line[0])\n",
    "    gpsEphs[i].e   = float(line[1])\n",
    "    gpsEphs[i].Cus = float(line[2])\n",
    "    gpsEphs[i].Asqrt    = float(line[3])\n",
    "    \n",
    "    j = 3\n",
    "    line = rinex[(i+1)*8+j].replace(\"D\",\"e\")\n",
    "    line = line.replace(\"-0.\",\" -0.\")\n",
    "    line = line.split()\n",
    "    gpsEphs[i].Toe  = float(line[0])\n",
    "    gpsEphs[i].Cic   = float(line[1])\n",
    "    gpsEphs[i].OMEGA = float(line[2])\n",
    "    gpsEphs[i].Cis    = float(line[3])\n",
    "    \n",
    "    j = 4\n",
    "    line = rinex[(i+1)*8+j].replace(\"D\",\"e\")\n",
    "    line = line.replace(\"-0.\",\" -0.\")\n",
    "    line = line.split()\n",
    "    gpsEphs[i].i0  = float(line[0])\n",
    "    gpsEphs[i].Crc   = float(line[1])\n",
    "    gpsEphs[i].omega = float(line[2])\n",
    "    gpsEphs[i].OMEGA_DOT  = float(line[3])\n",
    "    \n",
    "    j = 5\n",
    "    line = rinex[(i+1)*8+j].replace(\"D\",\"e\")\n",
    "    line = line.replace(\"-0.\",\" -0.\")\n",
    "    line = line.split()\n",
    "    gpsEphs[i].IDOT  = float(line[0])\n",
    "    gpsEphs[i].codeL2   = float(line[1])\n",
    "    gpsEphs[i].GPS_Week = float(line[2])\n",
    "    gpsEphs[i].L2Pdata  = float(line[3])\n",
    "    \n",
    "    j = 6\n",
    "    line = rinex[(i+1)*8+j].replace(\"D\",\"e\")\n",
    "    line = line.replace(\"-0.\",\" -0.\")\n",
    "    line = line.split()\n",
    "    gpsEphs[i].accuracy  = float(line[0])\n",
    "    gpsEphs[i].health   = float(line[1])\n",
    "    gpsEphs[i].TGD = float(line[2])\n",
    "    gpsEphs[i].IODC  = float(line[3])\n",
    "    \n",
    "    j = 7\n",
    "    line = rinex[(i+1)*8+j].replace(\"D\",\"e\")\n",
    "    line = line.replace(\"-0.\",\" -0.\")\n",
    "    line = line.split()\n",
    "    gpsEphs[i].ttx  = float(line[0])\n",
    "    gpsEphs[i].Fit_interval   = float(line[1])\n",
    "\n",
    "    "
   ]
  },
  {
   "cell_type": "code",
   "execution_count": 33,
   "metadata": {},
   "outputs": [
    {
     "data": {
      "text/plain": [
       "31"
      ]
     },
     "execution_count": 33,
     "metadata": {},
     "output_type": "execute_result"
    }
   ],
   "source": [
    "len(gpsEphs)"
   ]
  },
  {
   "cell_type": "raw",
   "metadata": {},
   "source": [
    "gpsTime, fctSeconds = utc2gps(utcTime[0])"
   ]
  },
  {
   "cell_type": "raw",
   "metadata": {},
   "source": [
    "ephAge = []\n",
    "healths = []\n",
    "goodEphSvs = []"
   ]
  },
  {
   "cell_type": "raw",
   "metadata": {},
   "source": [
    "WEEKSEC = 604800 \n",
    "for g in gpsEphs : \n",
    "    ephAge.append(g.GPS_Week * WEEKSEC + g.Toe - fctSeconds)\n",
    "    if g.health == 0:\n",
    "        healths.append(1)\n",
    "    else:\n",
    "        healths.append(0)\n",
    "    #iFreshAndHealthy.append(abs())"
   ]
  },
  {
   "cell_type": "raw",
   "metadata": {},
   "source": [
    "EPHVALIDSECONDS = 7200\n",
    "iFreshAndHealthy = abs(np.array(ephAge))<EPHVALIDSECONDS * np.array(healths)"
   ]
  },
  {
   "cell_type": "code",
   "execution_count": null,
   "metadata": {},
   "outputs": [],
   "source": []
  },
  {
   "cell_type": "markdown",
   "metadata": {},
   "source": [
    "# for index in np.argwhere(iFreshAndHealthy==True):\n",
    "    goodEphSvs.append(gpsEphs[index[0]].PRN)\n",
    "goodEphSvs = np.unique(np.array(goodEphSvs))"
   ]
  },
  {
   "cell_type": "code",
   "execution_count": 34,
   "metadata": {},
   "outputs": [],
   "source": [
    "def RxNanos(ConstellationType,FullBiasNanos,TimeNanos):\n",
    "    WEEKSEC = 604800\n",
    "    DAYSEC = 86400\n",
    "    GLO = ConstellationType == 3\n",
    "    BEI = ConstellationType == 5\n",
    "    GPSGLA = np.logical_not(GLO+BEI)\n",
    "    rxnano = np.zeros(ConstellationType.size)\n",
    "    dayNumber = np.floor( -FullBiasNanos[GLO] * 1e-9/DAYSEC)\n",
    "    weekNumber = np.floor( -FullBiasNanos[BEI+GPSGLA] * 1e-9/WEEKSEC)\n",
    "    dayNumberNanos = dayNumber * DAYSEC*1e9\n",
    "    weekNumberNanos = weekNumber * WEEKSEC*1e9\n",
    "    rxgpstime = TimeNanos - FullBiasNanos[0]\n",
    "    if any(GLO):\n",
    "        glorx = gps2glo(rxgpstime[GLO]*1e-6)*1e9 - dayNumberNanos\n",
    "        rxnano[GLO] = glorx\n",
    "    others = rxgpstime[BEI+GPSGLA] - weekNumberNanos\n",
    "    rxnano[BEI+GPSGLA] = others\n",
    "    if any(BEI):\n",
    "        rxnano[BEI]-=14*1e9\n",
    "    return rxnano"
   ]
  },
  {
   "cell_type": "code",
   "execution_count": 35,
   "metadata": {},
   "outputs": [
    {
     "name": "stdout",
     "output_type": "stream",
     "text": [
      "Corrected week rollover\n",
      "\n"
     ]
    }
   ],
   "source": [
    "WEEKSEC = 604800\n",
    "test = df_g\n",
    "iTowUnc = test.ReceivedSvTimeUncertaintyNanos > 500\n",
    "iPrrUnc = test.PseudorangeRateUncertaintyMetersPerSecond > 10\n",
    "df_g = df_g[df_g['ReceivedSvTimeUncertaintyNanos']<=500]\n",
    "df_g = df_g[df_g['PseudorangeRateUncertaintyMetersPerSecond']<=10]\n",
    "df_g = df_g.assign(tRxNanos = RxNanos(np.array(df_g.ConstellationType),np.array(df_g.FullBiasNanos),np.array(df_g.TimeNanos)))\n",
    "df_g = df_g.assign(tRxSeconds  = (df_g.tRxNanos- df_g.TimeOffsetNanos - df_g.BiasNanos)*1e-9)\n",
    "df_g = df_g.assign(tTxSeconds  = (df_g.ReceivedSvTimeNanos)*1e-9)\n",
    "prSeconds  = np.array(df_g.tRxSeconds - df_g.tTxSeconds)\n",
    "iRollover = np.array(prSeconds > WEEKSEC/2)\n",
    "prS = prSeconds[iRollover]\n",
    "delS = np.round(prS/WEEKSEC)*WEEKSEC\n",
    "prS = prS - delS\n",
    "\n",
    "maxBiasSeconds = 10; \n",
    "if any(prS>maxBiasSeconds):\n",
    "    print('Failed to correct week rollover\\n')\n",
    "else:\n",
    "    prSeconds[iRollover] = prS; \n",
    "    df_g.tRxSeconds[iRollover] = df_g.tRxSeconds[iRollover] - delS;\n",
    "    print('Corrected week rollover\\n')\n",
    "\n",
    "    \n",
    "\n",
    "LIGHTSPEED = 2.99792458e8\n",
    "df_g = df_g.assign(PrM  = prSeconds * LIGHTSPEED)\n",
    "df_g = df_g.assign(PrSigmaM = (df_g.ReceivedSvTimeUncertaintyNanos)*1e-9*LIGHTSPEED)\n",
    "\n",
    "\n"
   ]
  },
  {
   "cell_type": "raw",
   "metadata": {},
   "source": [
    "df_g[df_g['ConstellationType']==1][\"PrM\"][\"t112\"]"
   ]
  },
  {
   "cell_type": "raw",
   "metadata": {},
   "source": [
    "test['PrM']['t'+str(112)],test['Svid']['t'+str(112)],test['Svid']['t'+str(112)].iloc[8]"
   ]
  },
  {
   "cell_type": "code",
   "execution_count": 36,
   "metadata": {},
   "outputs": [],
   "source": [
    "#df_g.loc['t0'][['ConstellationType','State','ReceivedSvTimeNanos','tRxSeconds','tTxSeconds','PrM']]"
   ]
  },
  {
   "cell_type": "code",
   "execution_count": 37,
   "metadata": {},
   "outputs": [],
   "source": [
    "test = df_g[df_g['ConstellationType']==1]\n",
    "test = test.assign(weekNum = np.floor(test.allRxMills *1e-3 / WEEKSEC))"
   ]
  },
  {
   "cell_type": "code",
   "execution_count": 38,
   "metadata": {},
   "outputs": [
    {
     "data": {
      "text/plain": [
       "3     1.278059e+12\n",
       "4     1.278059e+12\n",
       "5     1.278059e+12\n",
       "6     1.278059e+12\n",
       "7     1.278059e+12\n",
       "8     1.278059e+12\n",
       "9     1.278059e+12\n",
       "10    1.278059e+12\n",
       "Name: allRxMills, dtype: float64"
      ]
     },
     "execution_count": 38,
     "metadata": {},
     "output_type": "execute_result"
    }
   ],
   "source": [
    "test.allRxMills.t0"
   ]
  },
  {
   "cell_type": "code",
   "execution_count": 39,
   "metadata": {},
   "outputs": [],
   "source": [
    "for t in range(t_end+1):\n",
    "    #t = 0\n",
    "    if not os.path.isdir(\"transfer_gps/outdoor/%02d\"%File):\n",
    "        os.makedirs(\"transfer_gps/outdoor/%02d\"%File)\n",
    "    fp = open(\"transfer_gps/outdoor/%02d/%02d.txt\"%(File,t),\"a\")\n",
    "    svid = np.array(test['Svid']['t'+str(t)])\n",
    "    iSv = []\n",
    "    GpsEph = pd.DataFrame(columns=head)\n",
    "    for i in range(len(svid)):\n",
    "        sv_id = svid[i]   \n",
    "        #print(t,sv_id)\n",
    "        ephThisSv = allGpsEphData[allGpsEphData['PRN']==sv_id]\n",
    "        fitIntervalHours = np.array(ephThisSv.Fit_interval)\n",
    "        fitIntervalHours[fitIntervalHours == 0]=4\n",
    "        fitIntervalHours\n",
    "        fctToe = np.array(ephThisSv.GPS_Week*WEEKSEC + ephThisSv.Toe)\n",
    "        ageSeconds = min(abs(fctToe-float(test['allRxMills']['t'+str(t)].iloc[i]*1e-3)))\n",
    "        iMin = np.argmin(abs(fctToe-float(test['allRxMills']['t'+str(t)].iloc[i]*1e-3)))\n",
    "        if ageSeconds < (fitIntervalHours[iMin]/2)*3600:\n",
    "            numEph = numEph+1\n",
    "            GpsEph = GpsEph.append(ephThisSv.iloc[iMin],ignore_index=True)\n",
    "            iSv.append(i)\n",
    "            \n",
    "    svid = np.array(test['Svid']['t'+str(t)].iloc[iSv])\n",
    "    numSvs = len(svid)\n",
    "    #if numSvs < 4:\n",
    "    #    continue\n",
    "    prM = np.array(test['PrM']['t'+str(t)].iloc[iSv])\n",
    "    prSigmaM = np.array(test['PrSigmaM']['t'+str(t)].iloc[iSv])\n",
    "    prrMps = np.array(test['PseudorangeRateMetersPerSecond']['t'+str(t)].iloc[iSv])\n",
    "    prrSigmaMps = np.array(test['PseudorangeRateUncertaintyMetersPerSecond']['t'+str(t)].iloc[iSv])\n",
    "    tRxweekNum = np.array(test['weekNum']['t'+str(t)].iloc[iSv])\n",
    "    tTxweekNum = tRxweekNum\n",
    "    tTxSeconds = np.array(test['tTxSeconds']['t'+str(t)].iloc[iSv])\n",
    "    tk = tTxSeconds - GpsEph.Toe\n",
    "    A = np.square(np.array(GpsEph.Asqrt))\n",
    "    mu = 3.986005e14\n",
    "    n0 = np.sqrt(mu / np.power(A,3))\n",
    "    n = n0 + GpsEph.Delta_n\n",
    "    Mk = GpsEph.M0 + n * tk\n",
    "\n",
    "    err = np.array([1]);\n",
    "\n",
    "    ek=Mk\n",
    "    iterCount = 0;\n",
    "    maxIterCount = 20;\n",
    "    while any(abs(err) > 1e-8):# & iterCount < maxIterCount:\n",
    "        err = ek - Mk - (GpsEph.e*np.sin(ek));\n",
    "        ek = ek - err;\n",
    "        iterCount = iterCount + 1\n",
    "\n",
    "    dt = tTxSeconds - GpsEph.Toc\n",
    "    FREL = -4.442807633e-10\n",
    "    dtsvS = GpsEph.af0 + GpsEph.af1*dt + GpsEph.af2*np.square(dt)  + FREL*GpsEph.e*GpsEph.Asqrt*np.sin(ek) -GpsEph.TGD\n",
    "    ttx = tTxSeconds - dtsvS\n",
    "    fitIntervalHours = GpsEph.Fit_interval\n",
    "    fitIntervalHours[fitIntervalHours == 0] = 2\n",
    "    fitIntervalSeconds = fitIntervalHours*3600\n",
    "    tk =(tTxweekNum-GpsEph.GPS_Week)*WEEKSEC + (ttx-GpsEph.Toe)\n",
    "    Mk = GpsEph.M0 + n * tk\n",
    "    err = np.array([1]);\n",
    "\n",
    "    ek=Mk\n",
    "    iterCount = 0;\n",
    "    maxIterCount = 20;\n",
    "    while any(abs(err) > 1e-8):# & iterCount < maxIterCount:\n",
    "        err = ek - Mk - (GpsEph.e*np.sin(ek));\n",
    "        ek = ek - err;\n",
    "        iterCount = iterCount + 1\n",
    "\n",
    "    vk=np.arctan2(np.sqrt(1-np.square(GpsEph.e))*np.sin(ek)/(1-GpsEph.e*np.cos(ek)),(np.cos(ek)-GpsEph.e)/(1-GpsEph.e*np.cos(ek)))\n",
    "    Phik=vk + GpsEph.omega\n",
    "\n",
    "    sin_2Phik=np.sin(2*Phik)\n",
    "    cos_2Phik=np.cos(2*Phik)\n",
    "\n",
    "    duk = GpsEph.Cus*sin_2Phik + GpsEph.Cuc*cos_2Phik\n",
    "    drk = GpsEph.Crc*cos_2Phik + GpsEph.Crs*sin_2Phik\n",
    "    dik = GpsEph.Cic*cos_2Phik + GpsEph.Cis*sin_2Phik\n",
    "\n",
    "    uk = Phik + duk\n",
    "    rk = A*((1-np.square(GpsEph.e))/(1+GpsEph.e*np.cos(vk))) + drk\n",
    "    ik = GpsEph.i0 + GpsEph.IDOT*tk + dik\n",
    "\n",
    "    sin_uk=np.sin(uk)\n",
    "    cos_uk=np.cos(uk)\n",
    "    xkp = rk*cos_uk\n",
    "    ykp = rk*sin_uk\n",
    "\n",
    "    WE = 7.2921151467e-5\n",
    "    Wk  = GpsEph.OMEGA + (GpsEph.OMEGA_DOT - WE)*tk - WE*GpsEph.Toe\n",
    "\n",
    "    sin_Wk = np.sin(Wk)\n",
    "    cos_Wk = np.cos(Wk)\n",
    "\n",
    "    sin_ik=np.sin(ik)\n",
    "    cos_ik=np.cos(ik)\n",
    "\n",
    "    x = np.array([xkp*cos_Wk-ykp*cos_ik*sin_Wk])\n",
    "    y= np.array([xkp*sin_Wk+ykp*cos_ik*cos_Wk])\n",
    "    z = np.array([ykp*sin_ik])\n",
    "    \n",
    "    xyz = np.concatenate((x.transpose(),y.transpose()),axis=1)\n",
    "    xyz = np.concatenate((xyz,z.transpose()),axis=1)\n",
    "    xyzP = np.concatenate((xyz,np.array([prM]).transpose()),axis=1)\n",
    "    for xyzp in xyzP:\n",
    "        fp.write(\"{},{},{},{}\\n\".format(xyzp[0],xyzp[1],xyzp[2],xyzp[3]))\n",
    "    fp.close()\n",
    "#tRx = np.concatenate((np.array( [test['weekNum']['t'+str(t)].iloc[iSv]]).transpose(),np.array([test['tRxSeconds']['t'+str(t)].iloc[iSv]]).transpose()),axis=1)"
   ]
  },
  {
   "cell_type": "raw",
   "metadata": {},
   "source": [
    "test['PrM']['t'+str(112)]#.iloc[6]"
   ]
  },
  {
   "cell_type": "raw",
   "metadata": {},
   "source": [
    "np.array(test[test['Svid']==6]['allRxMills']['t'+str(112)]*1e-3).size"
   ]
  },
  {
   "cell_type": "raw",
   "metadata": {},
   "source": [
    "test[test['Svid']==6]['allRxMills']['t'+str(112)].max()\n",
    "#r#.max()"
   ]
  },
  {
   "cell_type": "raw",
   "metadata": {},
   "source": [
    "test.keys()"
   ]
  },
  {
   "cell_type": "raw",
   "metadata": {},
   "source": [
    "test.Svid.t112, test.allRxMills.t112[5],test.tTxSeconds.t112[5], test.allRxMills.t112[32],test.tTxSeconds.t112[32]"
   ]
  },
  {
   "cell_type": "raw",
   "metadata": {},
   "source": [
    "tk = tTxSeconds - GpsEph.Toe\n",
    "A = np.square(np.array(GpsEph.Asqrt))\n",
    "mu = 3.986005e14\n",
    "n0 = np.sqrt(mu / np.power(A,3))\n",
    "n = n0 + GpsEph.Delta_n\n",
    "Mk = GpsEph.M0 + n * tk\n",
    "\n",
    "err = np.array([1]);\n",
    "\n",
    "ek=Mk\n",
    "iterCount = 0;\n",
    "maxIterCount = 20;\n",
    "while any(abs(err) > 1e-8):# & iterCount < maxIterCount:\n",
    "  err = ek - Mk - (GpsEph.e*np.sin(ek));\n",
    "  ek = ek - err;\n",
    "  iterCount = iterCount + 1\n",
    "\n",
    "dt = tTxSeconds - GpsEph.Toc\n",
    "FREL = -4.442807633e-10\n",
    "dtsvS = GpsEph.af0 + GpsEph.af1*dt + GpsEph.af2*np.square(dt)  + FREL*GpsEph.e*GpsEph.Asqrt*np.sin(ek) -GpsEph.TGD"
   ]
  },
  {
   "cell_type": "raw",
   "metadata": {},
   "source": [
    "dtsvS"
   ]
  },
  {
   "cell_type": "raw",
   "metadata": {},
   "source": [
    "ttx = tTxSeconds - dtsvS\n",
    "fitIntervalHours = GpsEph.Fit_interval\n",
    "fitIntervalHours[fitIntervalHours == 0] = 2\n",
    "fitIntervalSeconds = fitIntervalHours*3600\n",
    "tk =(tTxweekNum-GpsEph.GPS_Week)*WEEKSEC + (ttx-GpsEph.Toe)\n",
    "Mk = GpsEph.M0 + n * tk\n",
    "err = np.array([1]);\n",
    "\n",
    "ek=Mk\n",
    "iterCount = 0;\n",
    "maxIterCount = 20;\n",
    "while any(abs(err) > 1e-8):# & iterCount < maxIterCount:\n",
    "  err = ek - Mk - (GpsEph.e*np.sin(ek));\n",
    "  ek = ek - err;\n",
    "  iterCount = iterCount + 1\n",
    "\n",
    "vk=np.arctan2(np.sqrt(1-np.square(GpsEph.e))*np.sin(ek)/(1-GpsEph.e*np.cos(ek)),(np.cos(ek)-GpsEph.e)/(1-GpsEph.e*np.cos(ek)))\n",
    "Phik=vk + GpsEph.omega\n",
    "\n",
    "sin_2Phik=np.sin(2*Phik)\n",
    "cos_2Phik=np.cos(2*Phik)\n",
    "\n",
    "duk = GpsEph.Cus*sin_2Phik + GpsEph.Cuc*cos_2Phik\n",
    "drk = GpsEph.Crc*cos_2Phik + GpsEph.Crs*sin_2Phik\n",
    "dik = GpsEph.Cic*cos_2Phik + GpsEph.Cis*sin_2Phik\n",
    "\n",
    "uk = Phik + duk\n",
    "rk = A*((1-np.square(GpsEph.e))/(1+GpsEph.e*np.cos(vk))) + drk\n",
    "ik = GpsEph.i0 + GpsEph.IDOT*tk + dik\n",
    "\n",
    "sin_uk=np.sin(uk)\n",
    "cos_uk=np.cos(uk)\n",
    "xkp = rk*cos_uk\n",
    "ykp = rk*sin_uk\n",
    "\n",
    "WE = 7.2921151467e-5\n",
    "Wk  = GpsEph.OMEGA + (GpsEph.OMEGA_DOT - WE)*tk - WE*GpsEph.Toe\n",
    "\n",
    "sin_Wk = np.sin(Wk)\n",
    "cos_Wk = np.cos(Wk)\n",
    "\n",
    "sin_ik=np.sin(ik)\n",
    "cos_ik=np.cos(ik)\n",
    "\n",
    "a = np.array([xkp*cos_Wk-ykp*cos_ik*sin_Wk])\n",
    "b= np.array([xkp*sin_Wk+ykp*cos_ik*cos_Wk])\n",
    "c = np.array([ykp*sin_ik])\n",
    "\n",
    "d = np.concatenate((a.transpose(),b.transpose()),axis=1)\n",
    "d = np.concatenate((d,c.transpose()),axis=1)\n",
    "a,b,c,d"
   ]
  },
  {
   "cell_type": "raw",
   "metadata": {},
   "source": [
    "GpsEph"
   ]
  },
  {
   "cell_type": "code",
   "execution_count": null,
   "metadata": {},
   "outputs": [],
   "source": []
  },
  {
   "cell_type": "code",
   "execution_count": null,
   "metadata": {},
   "outputs": [],
   "source": []
  },
  {
   "cell_type": "code",
   "execution_count": null,
   "metadata": {},
   "outputs": [],
   "source": []
  },
  {
   "cell_type": "raw",
   "metadata": {},
   "source": [
    "rinex"
   ]
  },
  {
   "cell_type": "code",
   "execution_count": null,
   "metadata": {},
   "outputs": [],
   "source": []
  },
  {
   "cell_type": "code",
   "execution_count": null,
   "metadata": {},
   "outputs": [],
   "source": []
  },
  {
   "cell_type": "code",
   "execution_count": null,
   "metadata": {},
   "outputs": [],
   "source": []
  },
  {
   "cell_type": "code",
   "execution_count": null,
   "metadata": {},
   "outputs": [],
   "source": []
  },
  {
   "cell_type": "code",
   "execution_count": null,
   "metadata": {},
   "outputs": [],
   "source": []
  },
  {
   "cell_type": "raw",
   "metadata": {},
   "source": [
    "x=[]\n",
    "yn=[]\n",
    "yc = []\n",
    "yid = []\n",
    "for j in range(time+1):\n",
    "    cn0 = df_g['Cn0DbHz']['t'+str(j)]\n",
    "    svid = df_g['Svid']['t'+str(j)]\n",
    "    x.append(j)\n",
    "    yn.append(len(cn0))\n",
    "    yc.append(cn0.mean())\n",
    "    yid.append(svid)"
   ]
  },
  {
   "cell_type": "raw",
   "metadata": {},
   "source": [
    "import matplotlib\n",
    "import matplotlib.pyplot as plt"
   ]
  },
  {
   "cell_type": "raw",
   "metadata": {},
   "source": [
    "fig1 = plt.figure(figsize=(20,20))\n",
    "ax = plt.subplot(221)\n",
    "ax.set_ylim(5,35)\n",
    "ax2 = plt.subplot(223)\n",
    "\n",
    "ax3 = plt.subplot(222)\n",
    "ax3.set_ylim(20,36)\n",
    "ax.plot(x,yn,label = '$y = satellite number')\n",
    "ax3.plot(x,yc,label = '$y = Cn0')\n",
    "for i in range(time+1):\n",
    "    for j in range(len(yid[i])):\n",
    "        ax2.plot(i,yid[i][j], 'r.',markersize=1)\n",
    "ax2y = np.arange(-1,35,1)\n",
    "ax2.set_yticks(ax2y)\n",
    "#plt.show()\n",
    "#ax.legend()\n",
    "#ax2.legend()\n",
    "fig1.show\n",
    "fig1.savefig(outputname + '.png')"
   ]
  },
  {
   "cell_type": "code",
   "execution_count": null,
   "metadata": {},
   "outputs": [],
   "source": []
  }
 ],
 "metadata": {
  "kernelspec": {
   "display_name": "Python 3",
   "language": "python",
   "name": "python3"
  },
  "language_info": {
   "codemirror_mode": {
    "name": "ipython",
    "version": 3
   },
   "file_extension": ".py",
   "mimetype": "text/x-python",
   "name": "python",
   "nbconvert_exporter": "python",
   "pygments_lexer": "ipython3",
   "version": "3.6.10"
  }
 },
 "nbformat": 4,
 "nbformat_minor": 4
}
